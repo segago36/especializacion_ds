{
 "cells": [
  {
   "cell_type": "code",
   "execution_count": null,
   "metadata": {},
   "outputs": [],
   "source": [
    "\n",
    "class Archivo:\n",
    "    def __init__(self, nombre):\n",
    "        self.nombre = nombre\n",
    "\n",
    "    def leer(self):\n",
    "\n",
    "        with open(self.nombre, 'r') as file:\n",
    "            return file.read()\n",
    "\n",
    "    def escribir(self, contenido):\n",
    "\n",
    "        with open(self.nombre, 'w') as file:\n",
    "            file.write(contenido)\n",
    "\n"
   ]
  },
  {
   "cell_type": "code",
   "execution_count": null,
   "metadata": {},
   "outputs": [],
   "source": [
    "\n",
    "# Implementación corregida (siguiendo el principio de única responsabilidad)\n",
    "class Archivo:\n",
    "    def __init__(self, nombre):\n",
    "        self.nombre = nombre\n",
    "\n",
    "    def leer(self):\n",
    "        with open(self.nombre, 'r') as file:\n",
    "            return file.read()\n",
    "\n",
    "\n",
    "class EscritorArchivo:\n",
    "    @staticmethod\n",
    "    def escribir(contenido, nombre_archivo):\n",
    "        with open(nombre_archivo, 'w') as file:\n",
    "            file.write(contenido)\n",
    "\n",
    "\n",
    "# Uso de las clases corregidas\n",
    "nombre_archivo = \"ejemplo.txt\"\n",
    "contenido = Archivo(nombre_archivo).leer()\n",
    "print(\"Contenido del archivo:\", contenido)\n",
    "\n",
    "nuevo_contenido = \"Este es el nuevo contenido del archivo.\"\n",
    "EscritorArchivo.escribir(nuevo_contenido, nombre_archivo)\n"
   ]
  }
 ],
 "metadata": {
  "language_info": {
   "name": "python"
  }
 },
 "nbformat": 4,
 "nbformat_minor": 2
}
