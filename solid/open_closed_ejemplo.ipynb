{
 "cells": [
  {
   "cell_type": "code",
   "execution_count": null,
   "metadata": {},
   "outputs": [],
   "source": [
    "\n",
    "class Forma:\n",
    "    def __init__(self, tipo):\n",
    "        self.tipo = tipo\n",
    "\n",
    "    def area(self):\n",
    "        if self.tipo == \"cuadrado\":\n",
    "            lado = float(input(\"Introduce el lado del cuadrado: \"))\n",
    "            return lado ** 2\n",
    "        elif self.tipo == \"circulo\":\n",
    "            radio = float(input(\"Introduce el radio del círculo: \"))\n",
    "            return 3.14 * radio ** 2\n"
   ]
  },
  {
   "cell_type": "code",
   "execution_count": null,
   "metadata": {},
   "outputs": [],
   "source": [
    "\n",
    "\n",
    "from abc import ABC, abstractmethod\n",
    "\n",
    "class Forma(ABC):\n",
    "    @abstractmethod\n",
    "    def area(self):\n",
    "        pass\n",
    "\n",
    "\n",
    "class Cuadrado(Forma):\n",
    "    def __init__(self, lado):\n",
    "        self.lado = lado\n",
    "\n",
    "    def area(self):\n",
    "        return self.lado ** 2\n",
    "\n",
    "\n",
    "class Circulo(Forma):\n",
    "    def __init__(self, radio):\n",
    "        self.radio = radio\n",
    "\n",
    "    def area(self):\n",
    "        return 3.14 * self.radio ** 2\n",
    "\n",
    "\n",
    "\n",
    "cuadrado = Cuadrado(5)\n",
    "print(\"Área del cuadrado:\", cuadrado.area())\n",
    "\n",
    "circulo = Circulo(3)\n",
    "print(\"Área del círculo:\", circulo.area())\n"
   ]
  }
 ],
 "metadata": {
  "language_info": {
   "name": "python"
  }
 },
 "nbformat": 4,
 "nbformat_minor": 2
}
